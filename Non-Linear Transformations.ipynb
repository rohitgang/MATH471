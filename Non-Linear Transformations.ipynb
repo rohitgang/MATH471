{
 "cells": [
  {
   "cell_type": "markdown",
   "metadata": {},
   "source": [
    "# Non - Linear Transformations\n",
    "***\n",
    "Compares the reconstruction ability of Principal Component Analysis and Autoencoder\n",
    "***\n",
    "### Import Packages"
   ]
  },
  {
   "cell_type": "code",
   "execution_count": 1,
   "metadata": {},
   "outputs": [],
   "source": [
    "from tensorflow.keras.layers import Input, Dense\n",
    "from tensorflow.keras.models import Model\n",
    "from sklearn.decomposition import PCA\n",
    "from sklearn.preprocessing import StandardScaler\n",
    "import matplotlib.pyplot as plt\n",
    "from datetime import datetime\n",
    "import seaborn as sns\n",
    "import numpy as np"
   ]
  },
  {
   "cell_type": "markdown",
   "metadata": {},
   "source": [
    "***\n",
    "### Helper Functions"
   ]
  },
  {
   "cell_type": "code",
   "execution_count": 7,
   "metadata": {},
   "outputs": [],
   "source": [
    "def build_model(data_matrix, n_dim):\n",
    "    \n",
    "    input_layer = Input(shape=(n_dim,))\n",
    "    layer_1 = Dense(16, activation='linear')(input_layer)\n",
    "    layer_2 = Dense(8, activation='linear')(layer_1)\n",
    "    encode = Dense(1, activation='sigmoid')(layer_2)\n",
    "    layer_3 = Dense(8, activation='linear')(encode)\n",
    "    layer_4 = Dense(16, activation='linear')(layer_3)\n",
    "    output = Dense(n_dim, activation='sigmoid')(layer_4)\n",
    "    \n",
    "    autoencoder = Model(input_layer, output)\n",
    "    autoencoder.compile(optimizer='adam',\n",
    "                        loss='mse')\n",
    "    autoencoder.fit(data_matrix[:900], data_matrix[:900],\n",
    "                    epochs=50, batch_size=128,\n",
    "                    validation_data=(data_matrix[900:], data_matrix[900:]))\n",
    "    recon = autoencoder.predict(data_matrix)\n",
    "    \n",
    "    return autoencoder, recon\n",
    "\n",
    "def standardise(matrix):\n",
    "    input_dim = matrix.shape[1]\n",
    "    for i in range(matrix.shape[1]):\n",
    "        matrix[:, i] = (matrix[:,i] - matrix[:, i].min()) / (matrix[:, i].max() - matrix[:, i].min())\n",
    "    return matrix\n",
    "\n",
    "def pca_model(data_matrix, n_dim):\n",
    "    pca = PCA(n_components=n_dim)\n",
    "    pca.fit(data_matrix)\n",
    "    tr_data = pca.transform(data_matrix)\n",
    "    reconstructed = pca.inverse_transform(tr_data)\n",
    "    cost = np.mean(np.power(reconstructed - data_matrix, 2), axis=1)\n",
    "    cost = cost.reshape(-1,1)\n",
    "    return tr_data, reconstructed, cost\n",
    "\n",
    "def plots(og_matrix, recon_matrix_pca, recon_matrix_ac):\n",
    "    sns.set_style('darkgrid')\n",
    "    \n",
    "    plt.figure(figsize=(5,4))\n",
    "    plt.plot(og_matrix[:,0], og_matrix[:,1], marker='o')\n",
    "\n",
    "    plt.figure(figsize=(5,4))\n",
    "    plt.plot(recon_matrix_pca[:,0], recon_matrix_pca[:,1], marker='o')\n",
    "    plt.show()\n",
    "    \n",
    "    plt.figure(figsize=(5,4))\n",
    "    plt.plot(recon_matrix_ac[:,0], recon_matrix_ac[:,1], marker='o')\n",
    "    plt.show()"
   ]
  },
  {
   "cell_type": "markdown",
   "metadata": {},
   "source": [
    "***\n",
    "### Generate Data"
   ]
  },
  {
   "cell_type": "code",
   "execution_count": 4,
   "metadata": {},
   "outputs": [],
   "source": [
    "\"\"\"\n",
    "Equation : 4x^2 + 10\n",
    "\"\"\"\n",
    "\n",
    "m = 4\n",
    "c = 10\n",
    "matrix = np.empty((1000, 2))\n",
    "matrix[:,0] = np.linspace(0,1000,1000) #generate 1000 data points between 0 and 1000\n",
    "matrix[:,1] = m*(matrix[:,0]**2) + c\n",
    "data_matrix = standardise(matrix)"
   ]
  },
  {
   "cell_type": "markdown",
   "metadata": {},
   "source": [
    "***\n",
    "### Fit the data to the models"
   ]
  },
  {
   "cell_type": "code",
   "execution_count": 5,
   "metadata": {},
   "outputs": [
    {
     "name": "stdout",
     "output_type": "stream",
     "text": [
      "Train on 900 samples, validate on 100 samples\n",
      "Epoch 1/50\n",
      "900/900 [==============================] - 0s 488us/sample - loss: 0.0868 - val_loss: 0.2053\n",
      "Epoch 2/50\n",
      "900/900 [==============================] - 0s 19us/sample - loss: 0.0799 - val_loss: 0.2251\n",
      "Epoch 3/50\n",
      "900/900 [==============================] - 0s 18us/sample - loss: 0.0748 - val_loss: 0.2513\n",
      "Epoch 4/50\n",
      "900/900 [==============================] - 0s 24us/sample - loss: 0.0708 - val_loss: 0.2728\n",
      "Epoch 5/50\n",
      "900/900 [==============================] - 0s 20us/sample - loss: 0.0687 - val_loss: 0.2889\n",
      "Epoch 6/50\n",
      "900/900 [==============================] - 0s 22us/sample - loss: 0.0673 - val_loss: 0.3033\n",
      "Epoch 7/50\n",
      "900/900 [==============================] - 0s 21us/sample - loss: 0.0664 - val_loss: 0.3152\n",
      "Epoch 8/50\n",
      "900/900 [==============================] - 0s 25us/sample - loss: 0.0657 - val_loss: 0.3242\n",
      "Epoch 9/50\n",
      "900/900 [==============================] - 0s 24us/sample - loss: 0.0651 - val_loss: 0.3283\n",
      "Epoch 10/50\n",
      "900/900 [==============================] - 0s 26us/sample - loss: 0.0645 - val_loss: 0.3228\n",
      "Epoch 11/50\n",
      "900/900 [==============================] - 0s 26us/sample - loss: 0.0639 - val_loss: 0.3181\n",
      "Epoch 12/50\n",
      "900/900 [==============================] - 0s 28us/sample - loss: 0.0631 - val_loss: 0.3138\n",
      "Epoch 13/50\n",
      "900/900 [==============================] - 0s 28us/sample - loss: 0.0621 - val_loss: 0.3021\n",
      "Epoch 14/50\n",
      "900/900 [==============================] - 0s 25us/sample - loss: 0.0610 - val_loss: 0.2930\n",
      "Epoch 15/50\n",
      "900/900 [==============================] - 0s 28us/sample - loss: 0.0594 - val_loss: 0.2899\n",
      "Epoch 16/50\n",
      "900/900 [==============================] - 0s 24us/sample - loss: 0.0572 - val_loss: 0.2806\n",
      "Epoch 17/50\n",
      "900/900 [==============================] - 0s 26us/sample - loss: 0.0544 - val_loss: 0.2693\n",
      "Epoch 18/50\n",
      "900/900 [==============================] - 0s 29us/sample - loss: 0.0511 - val_loss: 0.2580\n",
      "Epoch 19/50\n",
      "900/900 [==============================] - 0s 20us/sample - loss: 0.0473 - val_loss: 0.2516\n",
      "Epoch 20/50\n",
      "900/900 [==============================] - 0s 21us/sample - loss: 0.0431 - val_loss: 0.2454\n",
      "Epoch 21/50\n",
      "900/900 [==============================] - 0s 26us/sample - loss: 0.0388 - val_loss: 0.2401\n",
      "Epoch 22/50\n",
      "900/900 [==============================] - 0s 19us/sample - loss: 0.0345 - val_loss: 0.2293\n",
      "Epoch 23/50\n",
      "900/900 [==============================] - 0s 22us/sample - loss: 0.0302 - val_loss: 0.2144\n",
      "Epoch 24/50\n",
      "900/900 [==============================] - 0s 20us/sample - loss: 0.0259 - val_loss: 0.1982\n",
      "Epoch 25/50\n",
      "900/900 [==============================] - 0s 18us/sample - loss: 0.0218 - val_loss: 0.1828\n",
      "Epoch 26/50\n",
      "900/900 [==============================] - 0s 21us/sample - loss: 0.0182 - val_loss: 0.1680\n",
      "Epoch 27/50\n",
      "900/900 [==============================] - 0s 20us/sample - loss: 0.0149 - val_loss: 0.1531\n",
      "Epoch 28/50\n",
      "900/900 [==============================] - 0s 25us/sample - loss: 0.0123 - val_loss: 0.1385\n",
      "Epoch 29/50\n",
      "900/900 [==============================] - 0s 27us/sample - loss: 0.0101 - val_loss: 0.1248\n",
      "Epoch 30/50\n",
      "900/900 [==============================] - 0s 22us/sample - loss: 0.0085 - val_loss: 0.1141\n",
      "Epoch 31/50\n",
      "900/900 [==============================] - 0s 26us/sample - loss: 0.0074 - val_loss: 0.1048\n",
      "Epoch 32/50\n",
      "900/900 [==============================] - 0s 20us/sample - loss: 0.0065 - val_loss: 0.0966\n",
      "Epoch 33/50\n",
      "900/900 [==============================] - 0s 20us/sample - loss: 0.0059 - val_loss: 0.0897\n",
      "Epoch 34/50\n",
      "900/900 [==============================] - 0s 27us/sample - loss: 0.0055 - val_loss: 0.0842\n",
      "Epoch 35/50\n",
      "900/900 [==============================] - 0s 24us/sample - loss: 0.0051 - val_loss: 0.0796\n",
      "Epoch 36/50\n",
      "900/900 [==============================] - 0s 21us/sample - loss: 0.0049 - val_loss: 0.0757\n",
      "Epoch 37/50\n",
      "900/900 [==============================] - 0s 25us/sample - loss: 0.0047 - val_loss: 0.0729\n",
      "Epoch 38/50\n",
      "900/900 [==============================] - 0s 20us/sample - loss: 0.0045 - val_loss: 0.0690\n",
      "Epoch 39/50\n",
      "900/900 [==============================] - 0s 22us/sample - loss: 0.0043 - val_loss: 0.0665\n",
      "Epoch 40/50\n",
      "900/900 [==============================] - 0s 25us/sample - loss: 0.0041 - val_loss: 0.0623\n",
      "Epoch 41/50\n",
      "900/900 [==============================] - 0s 21us/sample - loss: 0.0040 - val_loss: 0.0595\n",
      "Epoch 42/50\n",
      "900/900 [==============================] - 0s 22us/sample - loss: 0.0038 - val_loss: 0.0570\n",
      "Epoch 43/50\n",
      "900/900 [==============================] - 0s 20us/sample - loss: 0.0037 - val_loss: 0.0551\n",
      "Epoch 44/50\n",
      "900/900 [==============================] - 0s 17us/sample - loss: 0.0036 - val_loss: 0.0541\n",
      "Epoch 45/50\n",
      "900/900 [==============================] - 0s 20us/sample - loss: 0.0035 - val_loss: 0.0536\n",
      "Epoch 46/50\n",
      "900/900 [==============================] - 0s 19us/sample - loss: 0.0034 - val_loss: 0.0526\n",
      "Epoch 47/50\n",
      "900/900 [==============================] - 0s 20us/sample - loss: 0.0033 - val_loss: 0.0518\n",
      "Epoch 48/50\n",
      "900/900 [==============================] - 0s 18us/sample - loss: 0.0032 - val_loss: 0.0504\n",
      "Epoch 49/50\n",
      "900/900 [==============================] - 0s 24us/sample - loss: 0.0032 - val_loss: 0.0497\n",
      "Epoch 50/50\n",
      "900/900 [==============================] - 0s 20us/sample - loss: 0.0030 - val_loss: 0.0493\n"
     ]
    }
   ],
   "source": [
    "tr_data, recon_pca, mse = pca_model(data_matrix, 1) # reconstruction PCA\n",
    "autoencoder, recon_ac = build_model(data_matrix, data_matrix.shape[1]) # reconstruction Autoencoder"
   ]
  },
  {
   "cell_type": "markdown",
   "metadata": {},
   "source": [
    "***\n",
    "### Plot the reconstructions"
   ]
  },
  {
   "cell_type": "code",
   "execution_count": 8,
   "metadata": {},
   "outputs": [
    {
     "data": {
      "image/png": "[encoded data removed]",
      "text/plain": [
       "<Figure size 360x288 with 1 Axes>"
      ]
     },
     "metadata": {},
     "output_type": "display_data"
    },
    {
     "data": {
      "image/png": "[encoded data removed]",
      "text/plain": [
       "<Figure size 360x288 with 1 Axes>"
      ]
     },
     "metadata": {},
     "output_type": "display_data"
    },
    {
     "data": {
      "image/png": "[encoded data removed]",
      "text/plain": [
       "<Figure size 360x288 with 1 Axes>"
      ]
     },
     "metadata": {},
     "output_type": "display_data"
    }
   ],
   "source": [
    "plots(data_matrix, recon_pca, recon_ac)"
   ]
  },
  {
   "cell_type": "markdown",
   "metadata": {},
   "source": [
    "***\n",
    "### Model Summary"
   ]
  },
  {
   "cell_type": "code",
   "execution_count": 9,
   "metadata": {},
   "outputs": [
    {
     "name": "stdout",
     "output_type": "stream",
     "text": [
      "Model: \"model\"\n",
      "_________________________________________________________________\n",
      "Layer (type)                 Output Shape              Param #   \n",
      "=================================================================\n",
      "input_1 (InputLayer)         [(None, 2)]               0         \n",
      "_________________________________________________________________\n",
      "dense (Dense)                (None, 16)                48        \n",
      "_________________________________________________________________\n",
      "dense_1 (Dense)              (None, 8)                 136       \n",
      "_________________________________________________________________\n",
      "dense_2 (Dense)              (None, 1)                 9         \n",
      "_________________________________________________________________\n",
      "dense_3 (Dense)              (None, 8)                 16        \n",
      "_________________________________________________________________\n",
      "dense_4 (Dense)              (None, 16)                144       \n",
      "_________________________________________________________________\n",
      "dense_5 (Dense)              (None, 2)                 34        \n",
      "=================================================================\n",
      "Total params: 387\n",
      "Trainable params: 387\n",
      "Non-trainable params: 0\n",
      "_________________________________________________________________\n"
     ]
    }
   ],
   "source": [
    "autoencoder.summary()"
   ]
  },
  {
   "cell_type": "code",
   "execution_count": 12,
   "metadata": {},
   "outputs": [
    {
     "name": "stdout",
     "output_type": "stream",
     "text": [
      "MSE for PCA reconstruction : 0.0013711705649795737\n"
     ]
    }
   ],
   "source": [
    "print('MSE for PCA reconstruction :', np.mean(mse))"
   ]
  },
  {
   "cell_type": "code",
   "execution_count": 14,
   "metadata": {},
   "outputs": [
    {
     "name": "stdout",
     "output_type": "stream",
     "text": [
      "MSE for Autoencoder reconstruction : 0.03150823250182697\n"
     ]
    }
   ],
   "source": [
    "print('MSE for Autoencoder reconstruction :', np.mean(autoencoder.history.history['loss']))"
   ]
  }
 ],
 "metadata": {
  "kernelspec": {
   "display_name": "Python 3",
   "language": "python",
   "name": "python3"
  },
  "language_info": {
   "codemirror_mode": {
    "name": "ipython",
    "version": 3
   },
   "file_extension": ".py",
   "mimetype": "text/x-python",
   "name": "python",
   "nbconvert_exporter": "python",
   "pygments_lexer": "ipython3",
   "version": "3.7.4"
  }
 },
 "nbformat": 4,
 "nbformat_minor": 4
}
