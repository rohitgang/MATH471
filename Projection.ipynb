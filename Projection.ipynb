{
 "cells": [
  {
   "cell_type": "code",
   "execution_count": 1,
   "metadata": {},
   "outputs": [],
   "source": [
    "import pandas as pd\n",
    "import numpy as np\n",
    "import matplotlib.pyplot as plt\n",
    "import seaborn as sns"
   ]
  },
  {
   "cell_type": "markdown",
   "metadata": {},
   "source": [
    "## Part A"
   ]
  },
  {
   "cell_type": "code",
   "execution_count": 2,
   "metadata": {},
   "outputs": [],
   "source": [
    "data = pd.read_csv('wdbc.data.txt',sep=',', header=None)\n",
    "X = data[data[1] == 0]\n",
    "Y = data[data[1] == 1]\n",
    "X = X.drop(1, axis=1).drop(0, axis=1)\n",
    "Y = Y.drop(1, axis=1).drop(0, axis=1)\n",
    "X = X.T\n",
    "Y = Y.T"
   ]
  },
  {
   "cell_type": "markdown",
   "metadata": {},
   "source": [
    "## Part B"
   ]
  },
  {
   "cell_type": "code",
   "execution_count": 3,
   "metadata": {},
   "outputs": [],
   "source": [
    "\"\"\"\n",
    "Computing S_b and S_w\n",
    "\"\"\"\n",
    "mu_1 = X.mean(axis=1)\n",
    "mu_2 = Y.mean(axis=1)\n",
    "S_b = (mu_1 - mu_2)*(mu_1 - mu_2).T\n",
    "S_b = S_b.values\n",
    "X_o = X.apply(lambda x: x - mu_1, axis=0)\n",
    "Y_o = Y.apply(lambda y: y - mu_2, axis=0)\n",
    "X_prod = np.asmatrix(X_o) * np.asmatrix(X_o.T)\n",
    "Y_prod = np.asmatrix(Y_o) * np.asmatrix(Y_o.T)\n",
    "S_w = X_prod + Y_prod"
   ]
  },
  {
   "cell_type": "code",
   "execution_count": 4,
   "metadata": {},
   "outputs": [],
   "source": [
    "eigval, eigvec = np.linalg.eig(np.dot(np.linalg.inv(S_w),S_w))"
   ]
  },
  {
   "cell_type": "code",
   "execution_count": 5,
   "metadata": {},
   "outputs": [],
   "source": [
    "eigen_pairs = [[np.abs(eigval[i]),eigvec[:,i]] for i in range(len(eigval))]\n",
    "eigen_pairs = sorted(eigen_pairs,key=lambda k: k[0],reverse=True)\n",
    "v = eigen_pairs[0][1][:,np.newaxis].real"
   ]
  },
  {
   "cell_type": "code",
   "execution_count": 6,
   "metadata": {},
   "outputs": [
    {
     "data": {
      "text/plain": [
       "matrix([[ 6.42401563e-03, -1.02691127e-03, -6.46220984e-04,\n",
       "         -2.98990310e-05, -3.17072233e-01,  9.80753945e-03,\n",
       "          2.64555331e-02, -1.70234735e-01,  1.05196252e-01,\n",
       "          4.59585807e-01, -1.01865742e-02,  2.10855802e-04,\n",
       "          6.10651115e-04,  4.48716491e-05, -3.60709163e-02,\n",
       "         -1.08329976e-01, -7.16375130e-02,  2.42282047e-01,\n",
       "         -2.23018329e-02,  7.32660671e-01,  6.52750664e-04,\n",
       "          3.98270434e-05, -7.90861756e-05, -1.56488982e-06,\n",
       "          3.03996503e-02,  2.00277521e-02,  1.83695891e-03,\n",
       "         -2.09200189e-02,  5.74125668e-04, -1.77008124e-01]])"
      ]
     },
     "execution_count": 6,
     "metadata": {},
     "output_type": "execute_result"
    }
   ],
   "source": [
    "v"
   ]
  },
  {
   "cell_type": "code",
   "execution_count": 7,
   "metadata": {},
   "outputs": [
    {
     "data": {
      "image/png": "[encoded data removed]",
      "text/plain": [
       "<Figure size 432x288 with 1 Axes>"
      ]
     },
     "metadata": {
      "needs_background": "light"
     },
     "output_type": "display_data"
    }
   ],
   "source": [
    "_ = plt.scatter(X[20], Y[1])"
   ]
  },
  {
   "cell_type": "code",
   "execution_count": 8,
   "metadata": {},
   "outputs": [],
   "source": [
    "trans = X.T.dot(v.T)"
   ]
  },
  {
   "cell_type": "code",
   "execution_count": 9,
   "metadata": {},
   "outputs": [
    {
     "data": {
      "image/png": "[encoded data removed]",
      "text/plain": [
       "<Figure size 432x288 with 1 Axes>"
      ]
     },
     "metadata": {
      "needs_background": "light"
     },
     "output_type": "display_data"
    }
   ],
   "source": [
    "_ = plt.scatter(trans.index, trans)\n",
    "_ = plt.plot()"
   ]
  },
  {
   "cell_type": "code",
   "execution_count": 26,
   "metadata": {},
   "outputs": [
    {
     "ename": "ValueError",
     "evalue": "Dot product shape mismatch, (30, 357) vs (30, 1)",
     "output_type": "error",
     "traceback": [
      "\u001b[0;31m---------------------------------------------------------------------------\u001b[0m",
      "\u001b[0;31mValueError\u001b[0m                                Traceback (most recent call last)",
      "\u001b[0;32m<ipython-input-26-01eed1eec0af>\u001b[0m in \u001b[0;36m<module>\u001b[0;34m\u001b[0m\n\u001b[0;32m----> 1\u001b[0;31m \u001b[0mx_proj\u001b[0m \u001b[0;34m=\u001b[0m \u001b[0mX\u001b[0m\u001b[0;34m.\u001b[0m\u001b[0mdot\u001b[0m\u001b[0;34m(\u001b[0m\u001b[0mv\u001b[0m\u001b[0;34m.\u001b[0m\u001b[0mT\u001b[0m\u001b[0;34m)\u001b[0m\u001b[0;34m\u001b[0m\u001b[0;34m\u001b[0m\u001b[0m\n\u001b[0m",
      "\u001b[0;32m/opt/anaconda3/lib/python3.7/site-packages/pandas/core/frame.py\u001b[0m in \u001b[0;36mdot\u001b[0;34m(self, other)\u001b[0m\n\u001b[1;32m   1074\u001b[0m                 raise ValueError(\n\u001b[1;32m   1075\u001b[0m                     \u001b[0;34m\"Dot product shape mismatch, \"\u001b[0m\u001b[0;34m\u001b[0m\u001b[0;34m\u001b[0m\u001b[0m\n\u001b[0;32m-> 1076\u001b[0;31m                     \u001b[0;34m\"{s} vs {r}\"\u001b[0m\u001b[0;34m.\u001b[0m\u001b[0mformat\u001b[0m\u001b[0;34m(\u001b[0m\u001b[0ms\u001b[0m\u001b[0;34m=\u001b[0m\u001b[0mlvals\u001b[0m\u001b[0;34m.\u001b[0m\u001b[0mshape\u001b[0m\u001b[0;34m,\u001b[0m \u001b[0mr\u001b[0m\u001b[0;34m=\u001b[0m\u001b[0mrvals\u001b[0m\u001b[0;34m.\u001b[0m\u001b[0mshape\u001b[0m\u001b[0;34m)\u001b[0m\u001b[0;34m\u001b[0m\u001b[0;34m\u001b[0m\u001b[0m\n\u001b[0m\u001b[1;32m   1077\u001b[0m                 )\n\u001b[1;32m   1078\u001b[0m \u001b[0;34m\u001b[0m\u001b[0m\n",
      "\u001b[0;31mValueError\u001b[0m: Dot product shape mismatch, (30, 357) vs (30, 1)"
     ]
    }
   ],
   "source": [
    "x_proj = X.dot(v.T)"
   ]
  },
  {
   "cell_type": "code",
   "execution_count": 11,
   "metadata": {},
   "outputs": [],
   "source": [
    "y_proj = np.dot(Y.T, v.T)"
   ]
  },
  {
   "cell_type": "code",
   "execution_count": 12,
   "metadata": {},
   "outputs": [
    {
     "ename": "ValueError",
     "evalue": "x and y must be the same size",
     "output_type": "error",
     "traceback": [
      "\u001b[0;31m---------------------------------------------------------------------------\u001b[0m",
      "\u001b[0;31mValueError\u001b[0m                                Traceback (most recent call last)",
      "\u001b[0;32m<ipython-input-12-96163641dbfa>\u001b[0m in \u001b[0;36m<module>\u001b[0;34m\u001b[0m\n\u001b[0;32m----> 1\u001b[0;31m \u001b[0mplt\u001b[0m\u001b[0;34m.\u001b[0m\u001b[0mscatter\u001b[0m\u001b[0;34m(\u001b[0m\u001b[0mx_proj\u001b[0m\u001b[0;34m,\u001b[0m \u001b[0my_proj\u001b[0m\u001b[0;34m)\u001b[0m\u001b[0;34m\u001b[0m\u001b[0;34m\u001b[0m\u001b[0m\n\u001b[0m",
      "\u001b[0;32m/opt/anaconda3/lib/python3.7/site-packages/matplotlib/pyplot.py\u001b[0m in \u001b[0;36mscatter\u001b[0;34m(x, y, s, c, marker, cmap, norm, vmin, vmax, alpha, linewidths, verts, edgecolors, plotnonfinite, data, **kwargs)\u001b[0m\n\u001b[1;32m   2845\u001b[0m         \u001b[0mverts\u001b[0m\u001b[0;34m=\u001b[0m\u001b[0mverts\u001b[0m\u001b[0;34m,\u001b[0m \u001b[0medgecolors\u001b[0m\u001b[0;34m=\u001b[0m\u001b[0medgecolors\u001b[0m\u001b[0;34m,\u001b[0m\u001b[0;34m\u001b[0m\u001b[0;34m\u001b[0m\u001b[0m\n\u001b[1;32m   2846\u001b[0m         plotnonfinite=plotnonfinite, **({\"data\": data} if data is not\n\u001b[0;32m-> 2847\u001b[0;31m         None else {}), **kwargs)\n\u001b[0m\u001b[1;32m   2848\u001b[0m     \u001b[0msci\u001b[0m\u001b[0;34m(\u001b[0m\u001b[0m__ret\u001b[0m\u001b[0;34m)\u001b[0m\u001b[0;34m\u001b[0m\u001b[0;34m\u001b[0m\u001b[0m\n\u001b[1;32m   2849\u001b[0m     \u001b[0;32mreturn\u001b[0m \u001b[0m__ret\u001b[0m\u001b[0;34m\u001b[0m\u001b[0;34m\u001b[0m\u001b[0m\n",
      "\u001b[0;32m/opt/anaconda3/lib/python3.7/site-packages/matplotlib/__init__.py\u001b[0m in \u001b[0;36minner\u001b[0;34m(ax, data, *args, **kwargs)\u001b[0m\n\u001b[1;32m   1599\u001b[0m     \u001b[0;32mdef\u001b[0m \u001b[0minner\u001b[0m\u001b[0;34m(\u001b[0m\u001b[0max\u001b[0m\u001b[0;34m,\u001b[0m \u001b[0;34m*\u001b[0m\u001b[0margs\u001b[0m\u001b[0;34m,\u001b[0m \u001b[0mdata\u001b[0m\u001b[0;34m=\u001b[0m\u001b[0;32mNone\u001b[0m\u001b[0;34m,\u001b[0m \u001b[0;34m**\u001b[0m\u001b[0mkwargs\u001b[0m\u001b[0;34m)\u001b[0m\u001b[0;34m:\u001b[0m\u001b[0;34m\u001b[0m\u001b[0;34m\u001b[0m\u001b[0m\n\u001b[1;32m   1600\u001b[0m         \u001b[0;32mif\u001b[0m \u001b[0mdata\u001b[0m \u001b[0;32mis\u001b[0m \u001b[0;32mNone\u001b[0m\u001b[0;34m:\u001b[0m\u001b[0;34m\u001b[0m\u001b[0;34m\u001b[0m\u001b[0m\n\u001b[0;32m-> 1601\u001b[0;31m             \u001b[0;32mreturn\u001b[0m \u001b[0mfunc\u001b[0m\u001b[0;34m(\u001b[0m\u001b[0max\u001b[0m\u001b[0;34m,\u001b[0m \u001b[0;34m*\u001b[0m\u001b[0mmap\u001b[0m\u001b[0;34m(\u001b[0m\u001b[0msanitize_sequence\u001b[0m\u001b[0;34m,\u001b[0m \u001b[0margs\u001b[0m\u001b[0;34m)\u001b[0m\u001b[0;34m,\u001b[0m \u001b[0;34m**\u001b[0m\u001b[0mkwargs\u001b[0m\u001b[0;34m)\u001b[0m\u001b[0;34m\u001b[0m\u001b[0;34m\u001b[0m\u001b[0m\n\u001b[0m\u001b[1;32m   1602\u001b[0m \u001b[0;34m\u001b[0m\u001b[0m\n\u001b[1;32m   1603\u001b[0m         \u001b[0mbound\u001b[0m \u001b[0;34m=\u001b[0m \u001b[0mnew_sig\u001b[0m\u001b[0;34m.\u001b[0m\u001b[0mbind\u001b[0m\u001b[0;34m(\u001b[0m\u001b[0max\u001b[0m\u001b[0;34m,\u001b[0m \u001b[0;34m*\u001b[0m\u001b[0margs\u001b[0m\u001b[0;34m,\u001b[0m \u001b[0;34m**\u001b[0m\u001b[0mkwargs\u001b[0m\u001b[0;34m)\u001b[0m\u001b[0;34m\u001b[0m\u001b[0;34m\u001b[0m\u001b[0m\n",
      "\u001b[0;32m/opt/anaconda3/lib/python3.7/site-packages/matplotlib/axes/_axes.py\u001b[0m in \u001b[0;36mscatter\u001b[0;34m(self, x, y, s, c, marker, cmap, norm, vmin, vmax, alpha, linewidths, verts, edgecolors, plotnonfinite, **kwargs)\u001b[0m\n\u001b[1;32m   4442\u001b[0m         \u001b[0my\u001b[0m \u001b[0;34m=\u001b[0m \u001b[0mnp\u001b[0m\u001b[0;34m.\u001b[0m\u001b[0mma\u001b[0m\u001b[0;34m.\u001b[0m\u001b[0mravel\u001b[0m\u001b[0;34m(\u001b[0m\u001b[0my\u001b[0m\u001b[0;34m)\u001b[0m\u001b[0;34m\u001b[0m\u001b[0;34m\u001b[0m\u001b[0m\n\u001b[1;32m   4443\u001b[0m         \u001b[0;32mif\u001b[0m \u001b[0mx\u001b[0m\u001b[0;34m.\u001b[0m\u001b[0msize\u001b[0m \u001b[0;34m!=\u001b[0m \u001b[0my\u001b[0m\u001b[0;34m.\u001b[0m\u001b[0msize\u001b[0m\u001b[0;34m:\u001b[0m\u001b[0;34m\u001b[0m\u001b[0;34m\u001b[0m\u001b[0m\n\u001b[0;32m-> 4444\u001b[0;31m             \u001b[0;32mraise\u001b[0m \u001b[0mValueError\u001b[0m\u001b[0;34m(\u001b[0m\u001b[0;34m\"x and y must be the same size\"\u001b[0m\u001b[0;34m)\u001b[0m\u001b[0;34m\u001b[0m\u001b[0;34m\u001b[0m\u001b[0m\n\u001b[0m\u001b[1;32m   4445\u001b[0m \u001b[0;34m\u001b[0m\u001b[0m\n\u001b[1;32m   4446\u001b[0m         \u001b[0;32mif\u001b[0m \u001b[0ms\u001b[0m \u001b[0;32mis\u001b[0m \u001b[0;32mNone\u001b[0m\u001b[0;34m:\u001b[0m\u001b[0;34m\u001b[0m\u001b[0;34m\u001b[0m\u001b[0m\n",
      "\u001b[0;31mValueError\u001b[0m: x and y must be the same size"
     ]
    },
    {
     "data": {
      "image/png": "[encoded data removed]",
      "text/plain": [
       "<Figure size 432x288 with 1 Axes>"
      ]
     },
     "metadata": {
      "needs_background": "light"
     },
     "output_type": "display_data"
    }
   ],
   "source": [
    "plt.scatter(x_proj, y_proj)"
   ]
  },
  {
   "cell_type": "code",
   "execution_count": 13,
   "metadata": {},
   "outputs": [
    {
     "data": {
      "text/plain": [
       "(212, 1)"
      ]
     },
     "execution_count": 13,
     "metadata": {},
     "output_type": "execute_result"
    }
   ],
   "source": [
    "y_proj.shape"
   ]
  },
  {
   "cell_type": "code",
   "execution_count": 14,
   "metadata": {},
   "outputs": [
    {
     "data": {
      "text/plain": [
       "(357, 1)"
      ]
     },
     "execution_count": 14,
     "metadata": {},
     "output_type": "execute_result"
    }
   ],
   "source": [
    "x_proj.shape"
   ]
  },
  {
   "cell_type": "code",
   "execution_count": 15,
   "metadata": {},
   "outputs": [
    {
     "ename": "AttributeError",
     "evalue": "'matrix' object has no attribute 'index'",
     "output_type": "error",
     "traceback": [
      "\u001b[0;31m---------------------------------------------------------------------------\u001b[0m",
      "\u001b[0;31mAttributeError\u001b[0m                            Traceback (most recent call last)",
      "\u001b[0;32m<ipython-input-15-6ff0ba8d365e>\u001b[0m in \u001b[0;36m<module>\u001b[0;34m\u001b[0m\n\u001b[0;32m----> 1\u001b[0;31m \u001b[0mplt\u001b[0m\u001b[0;34m.\u001b[0m\u001b[0mscatter\u001b[0m\u001b[0;34m(\u001b[0m\u001b[0mx_proj\u001b[0m\u001b[0;34m.\u001b[0m\u001b[0mindex\u001b[0m\u001b[0;34m,\u001b[0m \u001b[0mx_proj\u001b[0m\u001b[0;34m)\u001b[0m\u001b[0;34m\u001b[0m\u001b[0;34m\u001b[0m\u001b[0m\n\u001b[0m",
      "\u001b[0;31mAttributeError\u001b[0m: 'matrix' object has no attribute 'index'"
     ]
    }
   ],
   "source": [
    "plt.scatter(x_proj.index, x_proj)"
   ]
  },
  {
   "cell_type": "code",
   "execution_count": 16,
   "metadata": {},
   "outputs": [
    {
     "ename": "ValueError",
     "evalue": "x and y must be the same size",
     "output_type": "error",
     "traceback": [
      "\u001b[0;31m---------------------------------------------------------------------------\u001b[0m",
      "\u001b[0;31mValueError\u001b[0m                                Traceback (most recent call last)",
      "\u001b[0;32m<ipython-input-16-0e4d73788936>\u001b[0m in \u001b[0;36m<module>\u001b[0;34m\u001b[0m\n\u001b[0;32m----> 1\u001b[0;31m \u001b[0mplt\u001b[0m\u001b[0;34m.\u001b[0m\u001b[0mscatter\u001b[0m\u001b[0;34m(\u001b[0m\u001b[0mv\u001b[0m\u001b[0;34m,\u001b[0m \u001b[0mx_proj\u001b[0m\u001b[0;34m)\u001b[0m\u001b[0;34m\u001b[0m\u001b[0;34m\u001b[0m\u001b[0m\n\u001b[0m",
      "\u001b[0;32m/opt/anaconda3/lib/python3.7/site-packages/matplotlib/pyplot.py\u001b[0m in \u001b[0;36mscatter\u001b[0;34m(x, y, s, c, marker, cmap, norm, vmin, vmax, alpha, linewidths, verts, edgecolors, plotnonfinite, data, **kwargs)\u001b[0m\n\u001b[1;32m   2845\u001b[0m         \u001b[0mverts\u001b[0m\u001b[0;34m=\u001b[0m\u001b[0mverts\u001b[0m\u001b[0;34m,\u001b[0m \u001b[0medgecolors\u001b[0m\u001b[0;34m=\u001b[0m\u001b[0medgecolors\u001b[0m\u001b[0;34m,\u001b[0m\u001b[0;34m\u001b[0m\u001b[0;34m\u001b[0m\u001b[0m\n\u001b[1;32m   2846\u001b[0m         plotnonfinite=plotnonfinite, **({\"data\": data} if data is not\n\u001b[0;32m-> 2847\u001b[0;31m         None else {}), **kwargs)\n\u001b[0m\u001b[1;32m   2848\u001b[0m     \u001b[0msci\u001b[0m\u001b[0;34m(\u001b[0m\u001b[0m__ret\u001b[0m\u001b[0;34m)\u001b[0m\u001b[0;34m\u001b[0m\u001b[0;34m\u001b[0m\u001b[0m\n\u001b[1;32m   2849\u001b[0m     \u001b[0;32mreturn\u001b[0m \u001b[0m__ret\u001b[0m\u001b[0;34m\u001b[0m\u001b[0;34m\u001b[0m\u001b[0m\n",
      "\u001b[0;32m/opt/anaconda3/lib/python3.7/site-packages/matplotlib/__init__.py\u001b[0m in \u001b[0;36minner\u001b[0;34m(ax, data, *args, **kwargs)\u001b[0m\n\u001b[1;32m   1599\u001b[0m     \u001b[0;32mdef\u001b[0m \u001b[0minner\u001b[0m\u001b[0;34m(\u001b[0m\u001b[0max\u001b[0m\u001b[0;34m,\u001b[0m \u001b[0;34m*\u001b[0m\u001b[0margs\u001b[0m\u001b[0;34m,\u001b[0m \u001b[0mdata\u001b[0m\u001b[0;34m=\u001b[0m\u001b[0;32mNone\u001b[0m\u001b[0;34m,\u001b[0m \u001b[0;34m**\u001b[0m\u001b[0mkwargs\u001b[0m\u001b[0;34m)\u001b[0m\u001b[0;34m:\u001b[0m\u001b[0;34m\u001b[0m\u001b[0;34m\u001b[0m\u001b[0m\n\u001b[1;32m   1600\u001b[0m         \u001b[0;32mif\u001b[0m \u001b[0mdata\u001b[0m \u001b[0;32mis\u001b[0m \u001b[0;32mNone\u001b[0m\u001b[0;34m:\u001b[0m\u001b[0;34m\u001b[0m\u001b[0;34m\u001b[0m\u001b[0m\n\u001b[0;32m-> 1601\u001b[0;31m             \u001b[0;32mreturn\u001b[0m \u001b[0mfunc\u001b[0m\u001b[0;34m(\u001b[0m\u001b[0max\u001b[0m\u001b[0;34m,\u001b[0m \u001b[0;34m*\u001b[0m\u001b[0mmap\u001b[0m\u001b[0;34m(\u001b[0m\u001b[0msanitize_sequence\u001b[0m\u001b[0;34m,\u001b[0m \u001b[0margs\u001b[0m\u001b[0;34m)\u001b[0m\u001b[0;34m,\u001b[0m \u001b[0;34m**\u001b[0m\u001b[0mkwargs\u001b[0m\u001b[0;34m)\u001b[0m\u001b[0;34m\u001b[0m\u001b[0;34m\u001b[0m\u001b[0m\n\u001b[0m\u001b[1;32m   1602\u001b[0m \u001b[0;34m\u001b[0m\u001b[0m\n\u001b[1;32m   1603\u001b[0m         \u001b[0mbound\u001b[0m \u001b[0;34m=\u001b[0m \u001b[0mnew_sig\u001b[0m\u001b[0;34m.\u001b[0m\u001b[0mbind\u001b[0m\u001b[0;34m(\u001b[0m\u001b[0max\u001b[0m\u001b[0;34m,\u001b[0m \u001b[0;34m*\u001b[0m\u001b[0margs\u001b[0m\u001b[0;34m,\u001b[0m \u001b[0;34m**\u001b[0m\u001b[0mkwargs\u001b[0m\u001b[0;34m)\u001b[0m\u001b[0;34m\u001b[0m\u001b[0;34m\u001b[0m\u001b[0m\n",
      "\u001b[0;32m/opt/anaconda3/lib/python3.7/site-packages/matplotlib/axes/_axes.py\u001b[0m in \u001b[0;36mscatter\u001b[0;34m(self, x, y, s, c, marker, cmap, norm, vmin, vmax, alpha, linewidths, verts, edgecolors, plotnonfinite, **kwargs)\u001b[0m\n\u001b[1;32m   4442\u001b[0m         \u001b[0my\u001b[0m \u001b[0;34m=\u001b[0m \u001b[0mnp\u001b[0m\u001b[0;34m.\u001b[0m\u001b[0mma\u001b[0m\u001b[0;34m.\u001b[0m\u001b[0mravel\u001b[0m\u001b[0;34m(\u001b[0m\u001b[0my\u001b[0m\u001b[0;34m)\u001b[0m\u001b[0;34m\u001b[0m\u001b[0;34m\u001b[0m\u001b[0m\n\u001b[1;32m   4443\u001b[0m         \u001b[0;32mif\u001b[0m \u001b[0mx\u001b[0m\u001b[0;34m.\u001b[0m\u001b[0msize\u001b[0m \u001b[0;34m!=\u001b[0m \u001b[0my\u001b[0m\u001b[0;34m.\u001b[0m\u001b[0msize\u001b[0m\u001b[0;34m:\u001b[0m\u001b[0;34m\u001b[0m\u001b[0;34m\u001b[0m\u001b[0m\n\u001b[0;32m-> 4444\u001b[0;31m             \u001b[0;32mraise\u001b[0m \u001b[0mValueError\u001b[0m\u001b[0;34m(\u001b[0m\u001b[0;34m\"x and y must be the same size\"\u001b[0m\u001b[0;34m)\u001b[0m\u001b[0;34m\u001b[0m\u001b[0;34m\u001b[0m\u001b[0m\n\u001b[0m\u001b[1;32m   4445\u001b[0m \u001b[0;34m\u001b[0m\u001b[0m\n\u001b[1;32m   4446\u001b[0m         \u001b[0;32mif\u001b[0m \u001b[0ms\u001b[0m \u001b[0;32mis\u001b[0m \u001b[0;32mNone\u001b[0m\u001b[0;34m:\u001b[0m\u001b[0;34m\u001b[0m\u001b[0;34m\u001b[0m\u001b[0m\n",
      "\u001b[0;31mValueError\u001b[0m: x and y must be the same size"
     ]
    },
    {
     "data": {
      "image/png": "[encoded data removed]",
      "text/plain": [
       "<Figure size 432x288 with 1 Axes>"
      ]
     },
     "metadata": {
      "needs_background": "light"
     },
     "output_type": "display_data"
    }
   ],
   "source": [
    "plt.scatter(v, x_proj)"
   ]
  },
  {
   "cell_type": "code",
   "execution_count": 17,
   "metadata": {},
   "outputs": [
    {
     "data": {
      "text/plain": [
       "matrix([[ 6.42401563e-03, -1.02691127e-03, -6.46220984e-04,\n",
       "         -2.98990310e-05, -3.17072233e-01,  9.80753945e-03,\n",
       "          2.64555331e-02, -1.70234735e-01,  1.05196252e-01,\n",
       "          4.59585807e-01, -1.01865742e-02,  2.10855802e-04,\n",
       "          6.10651115e-04,  4.48716491e-05, -3.60709163e-02,\n",
       "         -1.08329976e-01, -7.16375130e-02,  2.42282047e-01,\n",
       "         -2.23018329e-02,  7.32660671e-01,  6.52750664e-04,\n",
       "          3.98270434e-05, -7.90861756e-05, -1.56488982e-06,\n",
       "          3.03996503e-02,  2.00277521e-02,  1.83695891e-03,\n",
       "         -2.09200189e-02,  5.74125668e-04, -1.77008124e-01]])"
      ]
     },
     "execution_count": 17,
     "metadata": {},
     "output_type": "execute_result"
    }
   ],
   "source": [
    "v"
   ]
  },
  {
   "cell_type": "code",
   "execution_count": 18,
   "metadata": {},
   "outputs": [
    {
     "data": {
      "text/plain": [
       "(357, 1)"
      ]
     },
     "execution_count": 18,
     "metadata": {},
     "output_type": "execute_result"
    }
   ],
   "source": [
    "x_proj.shape"
   ]
  },
  {
   "cell_type": "code",
   "execution_count": 33,
   "metadata": {},
   "outputs": [
    {
     "data": {
      "text/plain": [
       "matrix([[ 3.71919150e-03],\n",
       "        [ 7.17225296e-03],\n",
       "        [ 1.16614717e-02],\n",
       "        [ 1.72198069e-03],\n",
       "        [ 1.14144609e-02],\n",
       "        [ 3.38933772e-03],\n",
       "        [ 1.31197191e-04],\n",
       "        [ 1.17373692e-03],\n",
       "        [ 6.56388553e-03],\n",
       "        [ 1.01575036e-02],\n",
       "        [ 4.07349732e-03],\n",
       "        [ 9.24767566e-03],\n",
       "        [ 1.34624453e-02],\n",
       "        [ 1.79559639e-02],\n",
       "        [-3.96802515e-03],\n",
       "        [ 2.02372343e-02],\n",
       "        [ 1.74326446e-03],\n",
       "        [ 3.59749851e-03],\n",
       "        [-2.85093274e-03],\n",
       "        [ 1.18607928e-03],\n",
       "        [ 1.91047834e-02],\n",
       "        [ 4.74487745e-03],\n",
       "        [ 4.09562216e-03],\n",
       "        [ 2.17552293e-03],\n",
       "        [ 1.00512895e-03],\n",
       "        [ 2.99804209e-03],\n",
       "        [ 9.51721786e-03],\n",
       "        [ 2.93784570e-03],\n",
       "        [-3.26088661e-03],\n",
       "        [-3.43043805e-03],\n",
       "        [ 6.77840986e-03],\n",
       "        [-3.32034707e-04],\n",
       "        [ 5.62410451e-03],\n",
       "        [-1.23899554e-04],\n",
       "        [ 8.71557397e-03],\n",
       "        [ 1.11000053e-02],\n",
       "        [ 5.43021302e-03],\n",
       "        [ 3.04079003e-03],\n",
       "        [ 8.32750990e-03],\n",
       "        [-2.55739210e-04],\n",
       "        [ 6.89127348e-03],\n",
       "        [ 2.89375309e-03],\n",
       "        [ 4.00779619e-03],\n",
       "        [-7.92008841e-04],\n",
       "        [ 2.53740530e-03],\n",
       "        [ 3.20651257e-03],\n",
       "        [ 2.86906424e-03],\n",
       "        [ 1.68225303e-04],\n",
       "        [ 1.37578510e-03],\n",
       "        [ 1.01702387e-02],\n",
       "        [ 2.98633794e-03],\n",
       "        [ 7.50290683e-03],\n",
       "        [ 6.47986914e-03],\n",
       "        [-3.58144503e-03],\n",
       "        [ 6.37887790e-03],\n",
       "        [ 1.28505838e-03],\n",
       "        [-2.40628515e-03],\n",
       "        [ 4.98951237e-03],\n",
       "        [ 1.05966933e-04],\n",
       "        [ 1.57052480e-02],\n",
       "        [ 2.95630258e-03],\n",
       "        [ 8.27236260e-03],\n",
       "        [ 8.67076621e-03],\n",
       "        [ 7.79636054e-03],\n",
       "        [ 5.68756262e-03],\n",
       "        [ 3.87836606e-04],\n",
       "        [ 4.95171897e-03],\n",
       "        [ 3.97768867e-03],\n",
       "        [ 1.09565921e-02],\n",
       "        [ 1.01164591e-02],\n",
       "        [ 1.00629474e-02],\n",
       "        [ 6.03091854e-03],\n",
       "        [ 9.03088830e-03],\n",
       "        [ 3.35423720e-03],\n",
       "        [ 7.18797979e-03],\n",
       "        [ 1.19448497e-02],\n",
       "        [-6.14141822e-04],\n",
       "        [-2.47465845e-03],\n",
       "        [ 8.82773617e-04],\n",
       "        [ 1.02841321e-02],\n",
       "        [ 1.23984165e-03],\n",
       "        [ 8.28464288e-03],\n",
       "        [ 7.76260136e-03],\n",
       "        [ 1.28157893e-02],\n",
       "        [ 1.22667567e-02],\n",
       "        [ 5.61388028e-03],\n",
       "        [ 6.09485875e-03],\n",
       "        [ 1.00628970e-02],\n",
       "        [ 9.87294582e-04],\n",
       "        [ 9.30245154e-03],\n",
       "        [-7.35688896e-05],\n",
       "        [ 3.60660586e-03],\n",
       "        [ 8.36944115e-03],\n",
       "        [ 3.71789215e-03],\n",
       "        [ 1.35894338e-02],\n",
       "        [ 9.10546097e-03],\n",
       "        [ 2.27186619e-03],\n",
       "        [ 2.59197090e-03],\n",
       "        [ 3.97572562e-03],\n",
       "        [-1.45904255e-03],\n",
       "        [ 4.85977424e-03],\n",
       "        [ 3.87451383e-03],\n",
       "        [ 5.81363542e-03],\n",
       "        [ 1.10707829e-02],\n",
       "        [ 4.45182629e-03],\n",
       "        [ 4.88147337e-03],\n",
       "        [ 5.85524288e-03],\n",
       "        [ 2.65804165e-03],\n",
       "        [ 4.69853462e-03],\n",
       "        [ 6.24318560e-03],\n",
       "        [ 7.38448422e-03],\n",
       "        [-3.43226463e-04],\n",
       "        [ 4.76211399e-03],\n",
       "        [-4.38432523e-03],\n",
       "        [ 8.72721763e-03],\n",
       "        [ 1.50138845e-04],\n",
       "        [-8.72490003e-03],\n",
       "        [ 3.01880785e-03],\n",
       "        [ 9.92126108e-03],\n",
       "        [ 9.15700557e-03],\n",
       "        [-1.27728547e-03],\n",
       "        [-1.07097105e-03],\n",
       "        [ 8.36489953e-03],\n",
       "        [ 5.22416035e-03],\n",
       "        [ 5.24804752e-06],\n",
       "        [ 6.22589408e-03],\n",
       "        [ 4.76799023e-03],\n",
       "        [ 4.50615217e-03],\n",
       "        [ 3.09224899e-03],\n",
       "        [ 8.22279511e-03],\n",
       "        [-1.66427374e-03],\n",
       "        [ 1.16387185e-02],\n",
       "        [ 8.24798057e-03],\n",
       "        [ 1.37468200e-02],\n",
       "        [-7.54472478e-03],\n",
       "        [ 1.28902843e-02],\n",
       "        [ 6.65000311e-03],\n",
       "        [ 7.98645156e-03],\n",
       "        [ 1.63355954e-02],\n",
       "        [ 4.04693661e-03],\n",
       "        [ 8.92896552e-03],\n",
       "        [ 6.49657416e-04],\n",
       "        [ 1.10943141e-02],\n",
       "        [ 7.59868412e-03],\n",
       "        [ 8.36392722e-03],\n",
       "        [ 1.99077070e-03],\n",
       "        [ 6.49139930e-04],\n",
       "        [ 3.33269647e-03],\n",
       "        [ 8.72996056e-03],\n",
       "        [ 8.09383330e-03],\n",
       "        [ 8.10957214e-03],\n",
       "        [ 1.16330778e-02],\n",
       "        [ 1.01646004e-02],\n",
       "        [-6.55089843e-04],\n",
       "        [ 4.57805181e-03],\n",
       "        [ 3.33336595e-04],\n",
       "        [ 3.17028358e-03],\n",
       "        [ 5.18029392e-03],\n",
       "        [ 9.02971580e-03],\n",
       "        [ 1.94558166e-02],\n",
       "        [ 1.16075421e-02],\n",
       "        [ 8.13526873e-03],\n",
       "        [ 9.84848043e-03],\n",
       "        [ 8.29260686e-03],\n",
       "        [ 7.82354904e-03],\n",
       "        [ 1.65539602e-02],\n",
       "        [ 1.16681653e-02],\n",
       "        [ 3.98535845e-03],\n",
       "        [ 1.33120551e-02],\n",
       "        [ 1.25353234e-02],\n",
       "        [ 8.22363488e-03],\n",
       "        [ 2.39892084e-03],\n",
       "        [ 6.45134880e-04],\n",
       "        [ 8.91531340e-03],\n",
       "        [ 2.83093618e-03],\n",
       "        [ 3.58511144e-03],\n",
       "        [ 8.00439085e-03],\n",
       "        [ 2.17816073e-03],\n",
       "        [ 3.66395145e-03],\n",
       "        [ 1.40860469e-02],\n",
       "        [ 6.90158187e-03],\n",
       "        [ 8.89152121e-03],\n",
       "        [ 5.67147668e-03],\n",
       "        [ 3.52989459e-03],\n",
       "        [ 1.36990310e-02],\n",
       "        [ 4.85761316e-03],\n",
       "        [ 3.49211030e-03],\n",
       "        [ 7.47478780e-03],\n",
       "        [ 6.42696245e-03],\n",
       "        [ 2.61868401e-03],\n",
       "        [ 6.35807395e-03],\n",
       "        [ 1.18879441e-02],\n",
       "        [ 9.89304011e-03],\n",
       "        [ 1.39156652e-02],\n",
       "        [-6.99855855e-04],\n",
       "        [-1.18366575e-04],\n",
       "        [ 4.22271788e-03],\n",
       "        [ 1.19498598e-02],\n",
       "        [ 1.45934459e-03],\n",
       "        [ 7.11933765e-03],\n",
       "        [ 2.35900329e-03],\n",
       "        [ 5.40002749e-03],\n",
       "        [-5.49632009e-03],\n",
       "        [ 8.28597743e-03],\n",
       "        [ 4.87738193e-03],\n",
       "        [ 1.04095148e-02],\n",
       "        [ 8.95632105e-03],\n",
       "        [ 2.86861611e-03],\n",
       "        [ 8.34261059e-03],\n",
       "        [-2.97864164e-03],\n",
       "        [ 8.06269881e-03],\n",
       "        [ 1.63811132e-03],\n",
       "        [ 1.55565875e-02],\n",
       "        [ 3.04165773e-03],\n",
       "        [ 9.21217645e-04],\n",
       "        [ 8.31230140e-03],\n",
       "        [ 8.82943074e-03],\n",
       "        [ 1.08801260e-02],\n",
       "        [ 1.21114382e-02],\n",
       "        [ 1.10901633e-02],\n",
       "        [ 1.10987602e-02],\n",
       "        [ 3.81393101e-03],\n",
       "        [ 5.77551554e-03],\n",
       "        [-2.98192523e-03],\n",
       "        [ 1.52428872e-03],\n",
       "        [ 1.12468160e-02],\n",
       "        [ 6.26707589e-03],\n",
       "        [ 1.02576094e-02],\n",
       "        [ 1.02161736e-02],\n",
       "        [ 5.00174095e-03],\n",
       "        [ 6.98959738e-03],\n",
       "        [-6.34293711e-05],\n",
       "        [ 1.35241600e-03],\n",
       "        [ 3.93615075e-03],\n",
       "        [ 6.52874103e-03],\n",
       "        [ 4.86336351e-03],\n",
       "        [ 1.90706834e-03],\n",
       "        [ 2.26622387e-03],\n",
       "        [-2.21743314e-05],\n",
       "        [ 3.73543232e-03],\n",
       "        [ 3.70045580e-03],\n",
       "        [ 9.72103534e-03],\n",
       "        [-3.77458097e-04],\n",
       "        [ 9.78172442e-03],\n",
       "        [ 7.02156491e-03],\n",
       "        [ 1.81588935e-03],\n",
       "        [ 1.24421072e-03],\n",
       "        [ 1.09458544e-02],\n",
       "        [ 6.57777156e-03],\n",
       "        [ 8.82080588e-03],\n",
       "        [ 5.33607332e-03],\n",
       "        [ 8.33567204e-03],\n",
       "        [ 4.95790670e-03],\n",
       "        [ 5.16491272e-03],\n",
       "        [ 2.63185643e-03],\n",
       "        [ 5.45524489e-03],\n",
       "        [ 6.66889441e-03],\n",
       "        [ 1.17581157e-03],\n",
       "        [ 7.13337799e-03],\n",
       "        [ 3.11735409e-03],\n",
       "        [ 5.36498560e-03],\n",
       "        [ 1.69702561e-02],\n",
       "        [-4.00695095e-03],\n",
       "        [ 5.75854818e-03],\n",
       "        [ 1.13516636e-03],\n",
       "        [ 5.52473687e-03],\n",
       "        [-3.91443197e-03],\n",
       "        [-3.92380404e-03],\n",
       "        [ 7.06744415e-03],\n",
       "        [-1.35966553e-02],\n",
       "        [-5.07998422e-03],\n",
       "        [-3.07285508e-03],\n",
       "        [-8.66286510e-04],\n",
       "        [-2.14125989e-03],\n",
       "        [ 1.30603276e-04],\n",
       "        [ 3.95549220e-03],\n",
       "        [ 5.09558956e-03],\n",
       "        [-9.73912087e-05],\n",
       "        [ 5.61390567e-04],\n",
       "        [ 1.00032999e-02],\n",
       "        [-1.56955483e-04],\n",
       "        [ 1.05617504e-02],\n",
       "        [-3.54693443e-03],\n",
       "        [ 6.36642257e-03],\n",
       "        [ 1.18132295e-04],\n",
       "        [ 8.87149642e-03],\n",
       "        [ 5.64359587e-03],\n",
       "        [-8.43073102e-04],\n",
       "        [ 1.26552179e-02],\n",
       "        [ 4.76657821e-03],\n",
       "        [ 4.61642333e-03],\n",
       "        [ 2.35356252e-03],\n",
       "        [ 1.48653094e-03],\n",
       "        [ 2.45242006e-03],\n",
       "        [ 3.59532285e-03],\n",
       "        [ 8.18118527e-03],\n",
       "        [ 1.16954182e-03],\n",
       "        [ 1.45762607e-03],\n",
       "        [ 2.00464435e-03],\n",
       "        [-9.01687614e-04],\n",
       "        [ 1.69358659e-02],\n",
       "        [ 7.70926197e-03],\n",
       "        [-6.11923479e-03],\n",
       "        [-2.66048933e-03],\n",
       "        [ 4.55035925e-03],\n",
       "        [-1.15559881e-03],\n",
       "        [ 3.44490609e-03],\n",
       "        [ 5.65473506e-03],\n",
       "        [ 8.54858669e-03],\n",
       "        [ 5.21820152e-03],\n",
       "        [ 3.50507278e-03],\n",
       "        [-2.18797874e-04],\n",
       "        [ 9.53535342e-03],\n",
       "        [ 6.47501931e-03],\n",
       "        [ 1.40366027e-03],\n",
       "        [ 3.42710688e-03],\n",
       "        [-3.60534500e-03],\n",
       "        [ 4.95851950e-03],\n",
       "        [ 6.37344549e-03],\n",
       "        [ 7.58339724e-03],\n",
       "        [ 2.81488388e-03],\n",
       "        [ 4.50968198e-03],\n",
       "        [ 7.89397593e-03],\n",
       "        [-7.55745069e-04],\n",
       "        [ 9.42047758e-03],\n",
       "        [ 2.24629452e-05],\n",
       "        [ 4.15407263e-03],\n",
       "        [-1.28007651e-03],\n",
       "        [ 3.83904337e-03],\n",
       "        [ 5.30237230e-03],\n",
       "        [ 2.50114124e-03],\n",
       "        [-2.86780324e-03],\n",
       "        [ 7.12497925e-03],\n",
       "        [ 5.62055208e-03],\n",
       "        [ 8.75300661e-03],\n",
       "        [-2.72120919e-03],\n",
       "        [-1.12689498e-03],\n",
       "        [-7.20624533e-03],\n",
       "        [ 1.23015909e-03],\n",
       "        [-3.00346553e-03],\n",
       "        [ 1.07228982e-02],\n",
       "        [ 8.33110537e-03],\n",
       "        [ 6.41864208e-03],\n",
       "        [ 6.84406359e-03],\n",
       "        [ 8.09171428e-03],\n",
       "        [ 3.10431570e-03],\n",
       "        [-5.69537240e-03],\n",
       "        [ 3.04975859e-03],\n",
       "        [-6.66541631e-03],\n",
       "        [-6.07894081e-03],\n",
       "        [ 4.40652600e-03],\n",
       "        [ 1.23281723e-04],\n",
       "        [-4.65651986e-03],\n",
       "        [-5.09505389e-03],\n",
       "        [-1.01652579e-02],\n",
       "        [-6.51512902e-03],\n",
       "        [ 9.22718992e-03]])"
      ]
     },
     "execution_count": 33,
     "metadata": {},
     "output_type": "execute_result"
    }
   ],
   "source": [
    "x_proj[:,0]"
   ]
  },
  {
   "cell_type": "code",
   "execution_count": 19,
   "metadata": {},
   "outputs": [
    {
     "data": {
      "text/plain": [
       "(212, 1)"
      ]
     },
     "execution_count": 19,
     "metadata": {},
     "output_type": "execute_result"
    }
   ],
   "source": [
    "y_proj.shape"
   ]
  },
  {
   "cell_type": "code",
   "execution_count": 32,
   "metadata": {},
   "outputs": [
    {
     "ename": "ValueError",
     "evalue": "all the input array dimensions for the concatenation axis must match exactly, but along dimension 0, the array at index 0 has size 357 and the array at index 1 has size 1",
     "output_type": "error",
     "traceback": [
      "\u001b[0;31m---------------------------------------------------------------------------\u001b[0m",
      "\u001b[0;31mValueError\u001b[0m                                Traceback (most recent call last)",
      "\u001b[0;32m<ipython-input-32-1ac59e188f09>\u001b[0m in \u001b[0;36m<module>\u001b[0;34m\u001b[0m\n\u001b[0;32m----> 1\u001b[0;31m \u001b[0mplt\u001b[0m\u001b[0;34m.\u001b[0m\u001b[0mscatter\u001b[0m\u001b[0;34m(\u001b[0m\u001b[0mlist\u001b[0m\u001b[0;34m(\u001b[0m\u001b[0mrange\u001b[0m\u001b[0;34m(\u001b[0m\u001b[0mlen\u001b[0m\u001b[0;34m(\u001b[0m\u001b[0mx_proj\u001b[0m\u001b[0;34m)\u001b[0m\u001b[0;34m)\u001b[0m\u001b[0;34m)\u001b[0m\u001b[0;34m,\u001b[0m \u001b[0mx_proj\u001b[0m\u001b[0;34m[\u001b[0m\u001b[0;34m:\u001b[0m\u001b[0;34m,\u001b[0m\u001b[0;36m0\u001b[0m\u001b[0;34m]\u001b[0m\u001b[0;34m,\u001b[0m \u001b[0mmarker\u001b[0m\u001b[0;34m=\u001b[0m\u001b[0;34m''\u001b[0m\u001b[0;34m)\u001b[0m\u001b[0;34m\u001b[0m\u001b[0;34m\u001b[0m\u001b[0m\n\u001b[0m",
      "\u001b[0;32m/opt/anaconda3/lib/python3.7/site-packages/matplotlib/pyplot.py\u001b[0m in \u001b[0;36mscatter\u001b[0;34m(x, y, s, c, marker, cmap, norm, vmin, vmax, alpha, linewidths, verts, edgecolors, plotnonfinite, data, **kwargs)\u001b[0m\n\u001b[1;32m   2845\u001b[0m         \u001b[0mverts\u001b[0m\u001b[0;34m=\u001b[0m\u001b[0mverts\u001b[0m\u001b[0;34m,\u001b[0m \u001b[0medgecolors\u001b[0m\u001b[0;34m=\u001b[0m\u001b[0medgecolors\u001b[0m\u001b[0;34m,\u001b[0m\u001b[0;34m\u001b[0m\u001b[0;34m\u001b[0m\u001b[0m\n\u001b[1;32m   2846\u001b[0m         plotnonfinite=plotnonfinite, **({\"data\": data} if data is not\n\u001b[0;32m-> 2847\u001b[0;31m         None else {}), **kwargs)\n\u001b[0m\u001b[1;32m   2848\u001b[0m     \u001b[0msci\u001b[0m\u001b[0;34m(\u001b[0m\u001b[0m__ret\u001b[0m\u001b[0;34m)\u001b[0m\u001b[0;34m\u001b[0m\u001b[0;34m\u001b[0m\u001b[0m\n\u001b[1;32m   2849\u001b[0m     \u001b[0;32mreturn\u001b[0m \u001b[0m__ret\u001b[0m\u001b[0;34m\u001b[0m\u001b[0;34m\u001b[0m\u001b[0m\n",
      "\u001b[0;32m/opt/anaconda3/lib/python3.7/site-packages/matplotlib/__init__.py\u001b[0m in \u001b[0;36minner\u001b[0;34m(ax, data, *args, **kwargs)\u001b[0m\n\u001b[1;32m   1599\u001b[0m     \u001b[0;32mdef\u001b[0m \u001b[0minner\u001b[0m\u001b[0;34m(\u001b[0m\u001b[0max\u001b[0m\u001b[0;34m,\u001b[0m \u001b[0;34m*\u001b[0m\u001b[0margs\u001b[0m\u001b[0;34m,\u001b[0m \u001b[0mdata\u001b[0m\u001b[0;34m=\u001b[0m\u001b[0;32mNone\u001b[0m\u001b[0;34m,\u001b[0m \u001b[0;34m**\u001b[0m\u001b[0mkwargs\u001b[0m\u001b[0;34m)\u001b[0m\u001b[0;34m:\u001b[0m\u001b[0;34m\u001b[0m\u001b[0;34m\u001b[0m\u001b[0m\n\u001b[1;32m   1600\u001b[0m         \u001b[0;32mif\u001b[0m \u001b[0mdata\u001b[0m \u001b[0;32mis\u001b[0m \u001b[0;32mNone\u001b[0m\u001b[0;34m:\u001b[0m\u001b[0;34m\u001b[0m\u001b[0;34m\u001b[0m\u001b[0m\n\u001b[0;32m-> 1601\u001b[0;31m             \u001b[0;32mreturn\u001b[0m \u001b[0mfunc\u001b[0m\u001b[0;34m(\u001b[0m\u001b[0max\u001b[0m\u001b[0;34m,\u001b[0m \u001b[0;34m*\u001b[0m\u001b[0mmap\u001b[0m\u001b[0;34m(\u001b[0m\u001b[0msanitize_sequence\u001b[0m\u001b[0;34m,\u001b[0m \u001b[0margs\u001b[0m\u001b[0;34m)\u001b[0m\u001b[0;34m,\u001b[0m \u001b[0;34m**\u001b[0m\u001b[0mkwargs\u001b[0m\u001b[0;34m)\u001b[0m\u001b[0;34m\u001b[0m\u001b[0;34m\u001b[0m\u001b[0m\n\u001b[0m\u001b[1;32m   1602\u001b[0m \u001b[0;34m\u001b[0m\u001b[0m\n\u001b[1;32m   1603\u001b[0m         \u001b[0mbound\u001b[0m \u001b[0;34m=\u001b[0m \u001b[0mnew_sig\u001b[0m\u001b[0;34m.\u001b[0m\u001b[0mbind\u001b[0m\u001b[0;34m(\u001b[0m\u001b[0max\u001b[0m\u001b[0;34m,\u001b[0m \u001b[0;34m*\u001b[0m\u001b[0margs\u001b[0m\u001b[0;34m,\u001b[0m \u001b[0;34m**\u001b[0m\u001b[0mkwargs\u001b[0m\u001b[0;34m)\u001b[0m\u001b[0;34m\u001b[0m\u001b[0;34m\u001b[0m\u001b[0m\n",
      "\u001b[0;32m/opt/anaconda3/lib/python3.7/site-packages/matplotlib/axes/_axes.py\u001b[0m in \u001b[0;36mscatter\u001b[0;34m(self, x, y, s, c, marker, cmap, norm, vmin, vmax, alpha, linewidths, verts, edgecolors, plotnonfinite, **kwargs)\u001b[0m\n\u001b[1;32m   4487\u001b[0m             \u001b[0mlinewidths\u001b[0m \u001b[0;34m=\u001b[0m \u001b[0mrcParams\u001b[0m\u001b[0;34m[\u001b[0m\u001b[0;34m'lines.linewidth'\u001b[0m\u001b[0;34m]\u001b[0m\u001b[0;34m\u001b[0m\u001b[0;34m\u001b[0m\u001b[0m\n\u001b[1;32m   4488\u001b[0m \u001b[0;34m\u001b[0m\u001b[0m\n\u001b[0;32m-> 4489\u001b[0;31m         \u001b[0moffsets\u001b[0m \u001b[0;34m=\u001b[0m \u001b[0mnp\u001b[0m\u001b[0;34m.\u001b[0m\u001b[0mma\u001b[0m\u001b[0;34m.\u001b[0m\u001b[0mcolumn_stack\u001b[0m\u001b[0;34m(\u001b[0m\u001b[0;34m[\u001b[0m\u001b[0mx\u001b[0m\u001b[0;34m,\u001b[0m \u001b[0my\u001b[0m\u001b[0;34m]\u001b[0m\u001b[0;34m)\u001b[0m\u001b[0;34m\u001b[0m\u001b[0;34m\u001b[0m\u001b[0m\n\u001b[0m\u001b[1;32m   4490\u001b[0m \u001b[0;34m\u001b[0m\u001b[0m\n\u001b[1;32m   4491\u001b[0m         collection = mcoll.PathCollection(\n",
      "\u001b[0;32m/opt/anaconda3/lib/python3.7/site-packages/numpy/ma/extras.py\u001b[0m in \u001b[0;36m__call__\u001b[0;34m(self, x, *args, **params)\u001b[0m\n\u001b[1;32m    296\u001b[0m     \u001b[0;32mdef\u001b[0m \u001b[0m__call__\u001b[0m\u001b[0;34m(\u001b[0m\u001b[0mself\u001b[0m\u001b[0;34m,\u001b[0m \u001b[0mx\u001b[0m\u001b[0;34m,\u001b[0m \u001b[0;34m*\u001b[0m\u001b[0margs\u001b[0m\u001b[0;34m,\u001b[0m \u001b[0;34m**\u001b[0m\u001b[0mparams\u001b[0m\u001b[0;34m)\u001b[0m\u001b[0;34m:\u001b[0m\u001b[0;34m\u001b[0m\u001b[0;34m\u001b[0m\u001b[0m\n\u001b[1;32m    297\u001b[0m         \u001b[0mfunc\u001b[0m \u001b[0;34m=\u001b[0m \u001b[0mgetattr\u001b[0m\u001b[0;34m(\u001b[0m\u001b[0mnp\u001b[0m\u001b[0;34m,\u001b[0m \u001b[0mself\u001b[0m\u001b[0;34m.\u001b[0m\u001b[0m__name__\u001b[0m\u001b[0;34m)\u001b[0m\u001b[0;34m\u001b[0m\u001b[0;34m\u001b[0m\u001b[0m\n\u001b[0;32m--> 298\u001b[0;31m         \u001b[0m_d\u001b[0m \u001b[0;34m=\u001b[0m \u001b[0mfunc\u001b[0m\u001b[0;34m(\u001b[0m\u001b[0mtuple\u001b[0m\u001b[0;34m(\u001b[0m\u001b[0;34m[\u001b[0m\u001b[0mnp\u001b[0m\u001b[0;34m.\u001b[0m\u001b[0masarray\u001b[0m\u001b[0;34m(\u001b[0m\u001b[0ma\u001b[0m\u001b[0;34m)\u001b[0m \u001b[0;32mfor\u001b[0m \u001b[0ma\u001b[0m \u001b[0;32min\u001b[0m \u001b[0mx\u001b[0m\u001b[0;34m]\u001b[0m\u001b[0;34m)\u001b[0m\u001b[0;34m,\u001b[0m \u001b[0;34m*\u001b[0m\u001b[0margs\u001b[0m\u001b[0;34m,\u001b[0m \u001b[0;34m**\u001b[0m\u001b[0mparams\u001b[0m\u001b[0;34m)\u001b[0m\u001b[0;34m\u001b[0m\u001b[0;34m\u001b[0m\u001b[0m\n\u001b[0m\u001b[1;32m    299\u001b[0m         \u001b[0m_m\u001b[0m \u001b[0;34m=\u001b[0m \u001b[0mfunc\u001b[0m\u001b[0;34m(\u001b[0m\u001b[0mtuple\u001b[0m\u001b[0;34m(\u001b[0m\u001b[0;34m[\u001b[0m\u001b[0mgetmaskarray\u001b[0m\u001b[0;34m(\u001b[0m\u001b[0ma\u001b[0m\u001b[0;34m)\u001b[0m \u001b[0;32mfor\u001b[0m \u001b[0ma\u001b[0m \u001b[0;32min\u001b[0m \u001b[0mx\u001b[0m\u001b[0;34m]\u001b[0m\u001b[0;34m)\u001b[0m\u001b[0;34m,\u001b[0m \u001b[0;34m*\u001b[0m\u001b[0margs\u001b[0m\u001b[0;34m,\u001b[0m \u001b[0;34m**\u001b[0m\u001b[0mparams\u001b[0m\u001b[0;34m)\u001b[0m\u001b[0;34m\u001b[0m\u001b[0;34m\u001b[0m\u001b[0m\n\u001b[1;32m    300\u001b[0m         \u001b[0;32mreturn\u001b[0m \u001b[0mmasked_array\u001b[0m\u001b[0;34m(\u001b[0m\u001b[0m_d\u001b[0m\u001b[0;34m,\u001b[0m \u001b[0mmask\u001b[0m\u001b[0;34m=\u001b[0m\u001b[0m_m\u001b[0m\u001b[0;34m)\u001b[0m\u001b[0;34m\u001b[0m\u001b[0;34m\u001b[0m\u001b[0m\n",
      "\u001b[0;32m<__array_function__ internals>\u001b[0m in \u001b[0;36mcolumn_stack\u001b[0;34m(*args, **kwargs)\u001b[0m\n",
      "\u001b[0;32m/opt/anaconda3/lib/python3.7/site-packages/numpy/lib/shape_base.py\u001b[0m in \u001b[0;36mcolumn_stack\u001b[0;34m(tup)\u001b[0m\n\u001b[1;32m    639\u001b[0m             \u001b[0marr\u001b[0m \u001b[0;34m=\u001b[0m \u001b[0marray\u001b[0m\u001b[0;34m(\u001b[0m\u001b[0marr\u001b[0m\u001b[0;34m,\u001b[0m \u001b[0mcopy\u001b[0m\u001b[0;34m=\u001b[0m\u001b[0;32mFalse\u001b[0m\u001b[0;34m,\u001b[0m \u001b[0msubok\u001b[0m\u001b[0;34m=\u001b[0m\u001b[0;32mTrue\u001b[0m\u001b[0;34m,\u001b[0m \u001b[0mndmin\u001b[0m\u001b[0;34m=\u001b[0m\u001b[0;36m2\u001b[0m\u001b[0;34m)\u001b[0m\u001b[0;34m.\u001b[0m\u001b[0mT\u001b[0m\u001b[0;34m\u001b[0m\u001b[0;34m\u001b[0m\u001b[0m\n\u001b[1;32m    640\u001b[0m         \u001b[0marrays\u001b[0m\u001b[0;34m.\u001b[0m\u001b[0mappend\u001b[0m\u001b[0;34m(\u001b[0m\u001b[0marr\u001b[0m\u001b[0;34m)\u001b[0m\u001b[0;34m\u001b[0m\u001b[0;34m\u001b[0m\u001b[0m\n\u001b[0;32m--> 641\u001b[0;31m     \u001b[0;32mreturn\u001b[0m \u001b[0m_nx\u001b[0m\u001b[0;34m.\u001b[0m\u001b[0mconcatenate\u001b[0m\u001b[0;34m(\u001b[0m\u001b[0marrays\u001b[0m\u001b[0;34m,\u001b[0m \u001b[0;36m1\u001b[0m\u001b[0;34m)\u001b[0m\u001b[0;34m\u001b[0m\u001b[0;34m\u001b[0m\u001b[0m\n\u001b[0m\u001b[1;32m    642\u001b[0m \u001b[0;34m\u001b[0m\u001b[0m\n\u001b[1;32m    643\u001b[0m \u001b[0;34m\u001b[0m\u001b[0m\n",
      "\u001b[0;32m<__array_function__ internals>\u001b[0m in \u001b[0;36mconcatenate\u001b[0;34m(*args, **kwargs)\u001b[0m\n",
      "\u001b[0;31mValueError\u001b[0m: all the input array dimensions for the concatenation axis must match exactly, but along dimension 0, the array at index 0 has size 357 and the array at index 1 has size 1"
     ]
    },
    {
     "data": {
      "image/png": "[encoded data removed]",
      "text/plain": [
       "<Figure size 432x288 with 1 Axes>"
      ]
     },
     "metadata": {
      "needs_background": "light"
     },
     "output_type": "display_data"
    }
   ],
   "source": [
    "plt.scatter(list(range(len(x_proj))), x_proj[:,0], marker='')"
   ]
  },
  {
   "cell_type": "code",
   "execution_count": null,
   "metadata": {},
   "outputs": [],
   "source": []
  }
 ],
 "metadata": {
  "kernelspec": {
   "display_name": "Python 3",
   "language": "python",
   "name": "python3"
  },
  "language_info": {
   "codemirror_mode": {
    "name": "ipython",
    "version": 3
   },
   "file_extension": ".py",
   "mimetype": "text/x-python",
   "name": "python",
   "nbconvert_exporter": "python",
   "pygments_lexer": "ipython3",
   "version": "3.7.4"
  }
 },
 "nbformat": 4,
 "nbformat_minor": 4
}
